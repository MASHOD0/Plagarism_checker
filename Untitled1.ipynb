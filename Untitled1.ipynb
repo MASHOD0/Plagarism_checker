{
 "cells": [
  {
   "cell_type": "code",
   "execution_count": null,
   "id": "5fbd00d6-0bc5-4343-8e19-c6cb11bea8ff",
   "metadata": {},
   "outputs": [],
   "source": []
  }
 ],
 "metadata": {
  "kernelspec": {
   "display_name": "Python 3",
   "language": "python",
   "name": "python3"
  },
  "language_info": {
   "name": ""
  }
 },
 "nbformat": 4,
 "nbformat_minor": 5
}
