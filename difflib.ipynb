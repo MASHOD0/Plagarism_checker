{
 "cells": [
  {
   "cell_type": "markdown",
   "id": "132d6199",
   "metadata": {},
   "source": [
    "# Using Difflib in python to Match Sequences\n"
   ]
  },
  {
   "cell_type": "code",
   "execution_count": 19,
   "id": "a1a47f59",
   "metadata": {},
   "outputs": [],
   "source": [
    "from difflib import SequenceMatcher"
   ]
  },
  {
   "cell_type": "code",
   "execution_count": 20,
   "id": "e76d134c",
   "metadata": {},
   "outputs": [],
   "source": [
    "str1 = \"నందమూరి బాలకృష్ణ, బోయపాటి శ్రీను కాంబినేషన్‌లో వచ్చిన అఖండ సినిమా ఎంతటి ఘన విజయం సాధించిందో అందరికీ తెలిసిందే. బాలయ్య కెరీర్‌లో అత్యధిక వసూళ్లను సాధించిన సినిమాగా అఖండ నిలిచింది. రెండు వారాలు కంటిన్యూగా ఆడటమే గగనం అయిన ఈ రోజుల్లో ఏకంగా యాభై రోజులు అఖండ సినిమా విజయవంతంగా నడిచింది.ఇక ఈ సినిమా వంద రోజులను పూర్తి చేసుకోవడంతో కృతజ్ఞత సభను అఖండ టీం నిర్వహించింది.\"\n",
    "str2 = \"నందమూరి బాలకృష్ణ, బోయపాటి శ్రీను కాంబినేషన్‌లో వచ్చిన అఖండ సినిమా ఎంతటి ఘన విజయం సాధించిందో అందరికీ తెలిసిందే. బాలయ్య కెరీర్‌లో అత్యధిక వసూళ్లను సాధించిన సినిమాగా అఖండ నిలిచింది. రెండు వారాలు కంటిన్యూగా ఆడటమే గగనం అయిన ఈ రోజుల్లో ఏకంగా యాభై రోజులు అఖండ సినిమా విజయవంతంగా నడిచింది.ఇక ఈ సినిమా వంద రోజులను పూర్తి చేసుకోవడంతో కృతజ్ఞత సభను అఖండ టీం నిర్వహించింది.\""
   ]
  },
  {
   "cell_type": "code",
   "execution_count": 21,
   "id": "1f4f1ab1",
   "metadata": {},
   "outputs": [],
   "source": [
    "\n",
    "similarity = SequenceMatcher(None, str1, str2).ratio()\n"
   ]
  },
  {
   "cell_type": "code",
   "execution_count": 22,
   "id": "d1cf4f99",
   "metadata": {},
   "outputs": [
    {
     "data": {
      "text/plain": [
       "1.0"
      ]
     },
     "execution_count": 22,
     "metadata": {},
     "output_type": "execute_result"
    }
   ],
   "source": [
    "similarity"
   ]
  },
  {
   "cell_type": "code",
   "execution_count": 23,
   "id": "84c568ab",
   "metadata": {},
   "outputs": [],
   "source": [
    "str1 = \"నందమూరి బాలకృష్ణ, బోయపాటి శ్రీను కాంబినేషన్‌లో వచ్చిన అఖండ సినిమా ఎంతటి ఘన విజయం సాధించిందో అందరికీ తెలిసిందే. బాలయ్య కెరీర్‌లో అత్యధిక వసూళ్లను సాధించిన సినిమాగా అఖండ నిలిచింది. రెండు వారాలు కంటిన్యూగా ఆడటమే గగనం అయిన ఈ రోజుల్లో ఏకంగా యాభై రోజులు అఖండ సినిమా విజయవంతంగా నడిచింది.ఇక ఈ సినిమా వంద రోజులను పూర్తి చేసుకోవడంతో కృతజ్ఞత సభను అఖండ టీం నిర్వహించింది.\"\n",
    "str2 = \" బోయపాటి శ్రీను కాంబినేషన్‌లో వచ్చిన అఖండ సినిమా ఎంతటి ఘన విజయం సాధించిందో అందరికీ తెలిసిందే. బాలయ్య కెరీర్‌లో అత్యధిక వసూళ్లను సాధించిన సినిమాగా అఖండ నిలిచింది. రెండు వారాలు కంటిన్యూగా ఆడటమే గగనం అయిన ఈ రోజుల్లో ఏకంగా యాభై రోజులు అఖండ సినిమా విజయవంతంగా నడిచింది.ఇక ఈ సినిమా వంద రోజులను పూర్తి చేసుకోవడంతో కృతజ్ఞత సభను అఖండ టీం నిర్వహించింది.\""
   ]
  },
  {
   "cell_type": "code",
   "execution_count": 24,
   "id": "773ce410",
   "metadata": {},
   "outputs": [],
   "source": [
    "similarity = SequenceMatcher(None, str1, str2).ratio()"
   ]
  },
  {
   "cell_type": "code",
   "execution_count": 25,
   "id": "3d18c98a",
   "metadata": {},
   "outputs": [
    {
     "data": {
      "text/plain": [
       "0.9757489300998573"
      ]
     },
     "execution_count": 25,
     "metadata": {},
     "output_type": "execute_result"
    }
   ],
   "source": [
    "similarity"
   ]
  },
  {
   "cell_type": "code",
   "execution_count": 26,
   "id": "37c61809",
   "metadata": {},
   "outputs": [],
   "source": [
    "str1 = \"నందమూరి బాలకృష్ణ, బోయపాటి శ్రీను కాంబినేషన్‌లో వచ్చిన అఖండ సినిమా ఎంతటి ఘన విజయం సాధించిందో అందరికీ తెలిసిందే.బాలయ్య కెరీర్‌లో అత్యధిక వసూళ్లను సాధించిన సినిమాగా అఖండ నిలిచింది. రెండు వారాలు కంటిన్యూగా ఆడటమే గగనం అయిన ఈ రోజుల్లో ఏకంగా యాభై రోజులు అఖండ సినిమా విజయవంతంగా నడిచింది.ఇక ఈ సినిమా వంద రోజులను పూర్తి చేసుకోవడంతో కృతజ్ఞత సభను అఖండ టీం నిర్వహించింది.\"\n",
    "str2 = \"ఈ ఈవెంట్‌లో నందమూరి బాలకృష్ణ తనదైన శైలిలో ప్రసంగాన్ని ప్రారంభించాడు. శివుడి గొప్పదనం చెబుతూ శ్లోకాలను చదివి వినిపించాడు. ఇంత గొప్ప సినిమాను నిర్మించినందుకు నిర్మాతకు, విజయాన్ని అందించిన ప్రేక్షకులకు ధన్యవాదాలు తెలియజేశాడు. వంద రోజులు పూర్తి చేసుకున్న సందర్భంగా ఏర్పాటు చేసిన ఈ కృతజ్ఞత సభకు విచ్చేసిన అభిమానులకు ధన్యవాదాలు తెలిపాడు.\""
   ]
  },
  {
   "cell_type": "code",
   "execution_count": 27,
   "id": "cfe78e14",
   "metadata": {},
   "outputs": [],
   "source": [
    "similarity = SequenceMatcher(None, str1, str2).ratio()"
   ]
  },
  {
   "cell_type": "code",
   "execution_count": 28,
   "id": "1352c0ac",
   "metadata": {},
   "outputs": [
    {
     "data": {
      "text/plain": [
       "0.11320754716981132"
      ]
     },
     "execution_count": 28,
     "metadata": {},
     "output_type": "execute_result"
    }
   ],
   "source": [
    "similarity"
   ]
  },
  {
   "cell_type": "code",
   "execution_count": null,
   "id": "3a5ad109",
   "metadata": {},
   "outputs": [],
   "source": []
  },
  {
   "cell_type": "code",
   "execution_count": null,
   "id": "0e388140",
   "metadata": {},
   "outputs": [],
   "source": []
  }
 ],
 "metadata": {
  "kernelspec": {
   "display_name": "Python 3 (ipykernel)",
   "language": "python",
   "name": "python3"
  },
  "language_info": {
   "codemirror_mode": {
    "name": "ipython",
    "version": 3
   },
   "file_extension": ".py",
   "mimetype": "text/x-python",
   "name": "python",
   "nbconvert_exporter": "python",
   "pygments_lexer": "ipython3",
   "version": "3.9.2"
  }
 },
 "nbformat": 4,
 "nbformat_minor": 5
}
